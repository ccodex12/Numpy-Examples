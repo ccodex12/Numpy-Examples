{
 "cells": [
  {
   "cell_type": "markdown",
   "metadata": {},
   "source": [
    "Analyse GDP of Countries\n",
    "DESCRIPTION\n",
    "\n",
    "Problem Statement: Evaluate the dataset containing the GDPs of different countries to:\n",
    "\n",
    "1. Find and print the name of the country with the highest GDP\n",
    "2. Find and print the name of the country with the lowest GDP\n",
    "3. Print out text and input values iteratively\n",
    "4. Print out the entire list of the countries with their GDPs\n",
    "5. Print the highest GDP value, lowest GDP value, mean GDP value, standardized GDP value, and the sum of all the GDPs\n",
    "6. Follow the cues provided to complete the assignment."
   ]
  },
  {
   "cell_type": "markdown",
   "metadata": {},
   "source": [
    "#### 1: View and add the dataset"
   ]
  },
  {
   "cell_type": "code",
   "execution_count": 2,
   "metadata": {
    "collapsed": true
   },
   "outputs": [],
   "source": [
    "#Import required library\n",
    "import numpy as np"
   ]
  },
  {
   "cell_type": "code",
   "execution_count": 3,
   "metadata": {
    "collapsed": true
   },
   "outputs": [],
   "source": [
    "#Manually add the dataset\n",
    "list_of_countries = ['Algeria','Angola','Argentina','Australia','Austria','Bahamas','Bangladesh','Belarus','Belgium',\n",
    "'Bhutan','Brazil','Bulgaria','Cambodia','Cameroon','Chile','China','Colombia','Cyprus','Denmark',\n",
    "'El Salvador','Estonia','Ethiopia','Fiji','Finland','France','Georgia','Ghana','Grenada','Guinea',\n",
    "'Haiti','Honduras','Hungary','India','Indonesia','Ireland','Italy','Japan','Kenya', 'South Korea',\n",
    "'Liberia','Malaysia','Mexico', 'Morocco','Nepal','New Zealand','Norway','Pakistan', 'Peru','Qatar',\n",
    "'Russia','Singapore','South Africa','Spain','Sweden','Switzerland','Thailand', 'United Arab Emirates',\n",
    "'United Kingdom','United States','Uruguay','Venezuela','Vietnam','Zimbabwe']\n",
    "gdp = [2255.225482,629.9553062,11601.63022,25306.82494,27266.40335,19466.99052,588.3691778,2890.345675,24733.62696,\n",
    "1445.760002,4803.398244,2618.876037,590.4521124,665.7982328,7122.938458,2639.54156,3362.4656,15378.16704,\n",
    "30860.12808,2579.115607,6525.541272,229.6769525,2242.689259,27570.4852,23016.84778,1334.646773,402.6953275,\n",
    "6047.200797,394.1156638,385.5793827,1414.072488,5745.981529,837.7464011,1206.991065,27715.52837,18937.24998,\n",
    "39578.07441,478.2194906,16684.21278,279.2204061,5345.213415,6288.25324,1908.304416,274.8728621,14646.42094,\n",
    "40034.85063,672.1547506,3359.517402,36152.66676,3054.727742,33529.83052,3825.093781,15428.32098,33630.24604,\n",
    "39170.41371,2699.123242,21058.43643,28272.40661,37691.02733,9581.05659,5671.912202,757.4009286,347.7456605]\n",
    "country_arr = np.array(list_of_countries)\n",
    "gdp_arr = np.array(gdp)"
   ]
  },
  {
   "cell_type": "markdown",
   "metadata": {
    "collapsed": true
   },
   "source": [
    "#### 2: Find and print the name of the country with the highest GDP"
   ]
  },
  {
   "cell_type": "code",
   "execution_count": 4,
   "metadata": {
    "collapsed": false
   },
   "outputs": [],
   "source": [
    "#Use the argmax() method to find the highest GDP\n",
    "idx_highest_gdp = np.argmax(gdp_arr)"
   ]
  },
  {
   "cell_type": "code",
   "execution_count": 5,
   "metadata": {
    "collapsed": true
   },
   "outputs": [
    {
     "name": "stdout",
     "output_type": "stream",
     "text": [
      "Norway\n"
     ]
    }
   ],
   "source": [
    "#Print the name of the country\n",
    "print(country_arr[idx_highest_gdp])"
   ]
  },
  {
   "cell_type": "markdown",
   "metadata": {
    "collapsed": false
   },
   "source": [
    "#### 3: Find and print the name of the country with the lowest GDP"
   ]
  },
  {
   "cell_type": "code",
   "execution_count": 6,
   "metadata": {
    "collapsed": true
   },
   "outputs": [],
   "source": [
    "#Use the argmin() method to find the lowest GDP\n",
    "idx_min_gdp = np.argmin(gdp_arr)"
   ]
  },
  {
   "cell_type": "code",
   "execution_count": 7,
   "metadata": {
    "collapsed": true
   },
   "outputs": [
    {
     "name": "stdout",
     "output_type": "stream",
     "text": [
      "Ethiopia\n"
     ]
    }
   ],
   "source": [
    "#Print the name of the country\n",
    "print(country_arr[idx_min_gdp])"
   ]
  },
  {
   "cell_type": "markdown",
   "metadata": {
    "collapsed": false
   },
   "source": [
    "#### 4: Print out text ('evaluating country') and input value ('country name') iteratively"
   ]
  },
  {
   "cell_type": "code",
   "execution_count": 8,
   "metadata": {
    "collapsed": false
   },
   "outputs": [
    {
     "name": "stdout",
     "output_type": "stream",
     "text": [
      "evaluating country Algeria\n",
      "evaluating country Angola\n",
      "evaluating country Argentina\n",
      "evaluating country Australia\n",
      "evaluating country Austria\n",
      "evaluating country Bahamas\n",
      "evaluating country Bangladesh\n",
      "evaluating country Belarus\n",
      "evaluating country Belgium\n",
      "evaluating country Bhutan\n",
      "evaluating country Brazil\n",
      "evaluating country Bulgaria\n",
      "evaluating country Cambodia\n",
      "evaluating country Cameroon\n",
      "evaluating country Chile\n",
      "evaluating country China\n",
      "evaluating country Colombia\n",
      "evaluating country Cyprus\n",
      "evaluating country Denmark\n",
      "evaluating country El Salvador\n",
      "evaluating country Estonia\n",
      "evaluating country Ethiopia\n",
      "evaluating country Fiji\n",
      "evaluating country Finland\n",
      "evaluating country France\n",
      "evaluating country Georgia\n",
      "evaluating country Ghana\n",
      "evaluating country Grenada\n",
      "evaluating country Guinea\n",
      "evaluating country Haiti\n",
      "evaluating country Honduras\n",
      "evaluating country Hungary\n",
      "evaluating country India\n",
      "evaluating country Indonesia\n",
      "evaluating country Ireland\n",
      "evaluating country Italy\n",
      "evaluating country Japan\n",
      "evaluating country Kenya\n",
      "evaluating country South Korea\n",
      "evaluating country Liberia\n",
      "evaluating country Malaysia\n",
      "evaluating country Mexico\n",
      "evaluating country Morocco\n",
      "evaluating country Nepal\n",
      "evaluating country New Zealand\n",
      "evaluating country Norway\n",
      "evaluating country Pakistan\n",
      "evaluating country Peru\n",
      "evaluating country Qatar\n",
      "evaluating country Russia\n",
      "evaluating country Singapore\n",
      "evaluating country South Africa\n",
      "evaluating country Spain\n",
      "evaluating country Sweden\n",
      "evaluating country Switzerland\n",
      "evaluating country Thailand\n",
      "evaluating country United Arab Emirates\n",
      "evaluating country United Kingdom\n",
      "evaluating country United States\n",
      "evaluating country Uruguay\n",
      "evaluating country Venezuela\n",
      "evaluating country Vietnam\n",
      "evaluating country Zimbabwe\n"
     ]
    }
   ],
   "source": [
    "#Use a for loop to print the required output\n",
    "for country in country_arr:\n",
    "    print('evaluating country {}'.format(country))"
   ]
  },
  {
   "cell_type": "markdown",
   "metadata": {},
   "source": [
    "#### 5: Print out the entire list of the countries with their GDPs"
   ]
  },
  {
   "cell_type": "code",
   "execution_count": 9,
   "metadata": {
    "collapsed": false
   },
   "outputs": [
    {
     "name": "stdout",
     "output_type": "stream",
     "text": [
      "country Algeria - gdp 2255.225482\n",
      "country Angola - gdp 629.9553062\n",
      "country Argentina - gdp 11601.63022\n",
      "country Australia - gdp 25306.82494\n",
      "country Austria - gdp 27266.40335\n",
      "country Bahamas - gdp 19466.99052\n",
      "country Bangladesh - gdp 588.3691778\n",
      "country Belarus - gdp 2890.345675\n",
      "country Belgium - gdp 24733.62696\n",
      "country Bhutan - gdp 1445.760002\n",
      "country Brazil - gdp 4803.398244\n",
      "country Bulgaria - gdp 2618.876037\n",
      "country Cambodia - gdp 590.4521124\n",
      "country Cameroon - gdp 665.7982328\n",
      "country Chile - gdp 7122.938458\n",
      "country China - gdp 2639.54156\n",
      "country Colombia - gdp 3362.4656\n",
      "country Cyprus - gdp 15378.16704\n",
      "country Denmark - gdp 30860.12808\n",
      "country El Salvador - gdp 2579.115607\n",
      "country Estonia - gdp 6525.541272\n",
      "country Ethiopia - gdp 229.6769525\n",
      "country Fiji - gdp 2242.689259\n",
      "country Finland - gdp 27570.4852\n",
      "country France - gdp 23016.84778\n",
      "country Georgia - gdp 1334.646773\n",
      "country Ghana - gdp 402.6953275\n",
      "country Grenada - gdp 6047.200797\n",
      "country Guinea - gdp 394.1156638\n",
      "country Haiti - gdp 385.5793827\n",
      "country Honduras - gdp 1414.072488\n",
      "country Hungary - gdp 5745.981529\n",
      "country India - gdp 837.7464011\n",
      "country Indonesia - gdp 1206.991065\n",
      "country Ireland - gdp 27715.52837\n",
      "country Italy - gdp 18937.24998\n",
      "country Japan - gdp 39578.07441\n",
      "country Kenya - gdp 478.2194906\n",
      "country South Korea - gdp 16684.21278\n",
      "country Liberia - gdp 279.2204061\n",
      "country Malaysia - gdp 5345.213415\n",
      "country Mexico - gdp 6288.25324\n",
      "country Morocco - gdp 1908.304416\n",
      "country Nepal - gdp 274.8728621\n",
      "country New Zealand - gdp 14646.42094\n",
      "country Norway - gdp 40034.85063\n",
      "country Pakistan - gdp 672.1547506\n",
      "country Peru - gdp 3359.517402\n",
      "country Qatar - gdp 36152.66676\n",
      "country Russia - gdp 3054.727742\n",
      "country Singapore - gdp 33529.83052\n",
      "country South Africa - gdp 3825.093781\n",
      "country Spain - gdp 15428.32098\n",
      "country Sweden - gdp 33630.24604\n",
      "country Switzerland - gdp 39170.41371\n",
      "country Thailand - gdp 2699.123242\n",
      "country United Arab Emirates - gdp 21058.43643\n",
      "country United Kingdom - gdp 28272.40661\n",
      "country United States - gdp 37691.02733\n",
      "country Uruguay - gdp 9581.05659\n",
      "country Venezuela - gdp 5671.912202\n",
      "country Vietnam - gdp 757.4009286\n",
      "country Zimbabwe - gdp 347.7456605\n"
     ]
    }
   ],
   "source": [
    "#Use a for loop to print the required list\n",
    "for country, gdp in zip(country_arr, gdp_arr):\n",
    "    print('country {} - gdp {}'.format(country,gdp))"
   ]
  },
  {
   "cell_type": "markdown",
   "metadata": {
    "collapsed": false
   },
   "source": [
    "#### 6: Print the following:\n",
    "1. Highest GPD value\n",
    "2. Lowest GDP value\n",
    "3. Mean GDP value\n",
    "4. Standardized GDP value\n",
    "5. Sum of all the GDPs"
   ]
  },
  {
   "cell_type": "code",
   "execution_count": 15,
   "metadata": {
    "collapsed": true
   },
   "outputs": [
    {
     "data": {
      "text/plain": [
       "(40034.85063,\n",
       " 229.6769525,\n",
       " 11289.409271639683,\n",
       " 12743.828910617945,\n",
       " 711232.7841133)"
      ]
     },
     "execution_count": 15,
     "metadata": {},
     "output_type": "execute_result"
    }
   ],
   "source": [
    "gdp_arr.max(), gdp_arr.min(), gdp_arr.mean(), np.std(gdp_arr), np.sum(gdp_arr)"
   ]
  }
 ],
 "metadata": {
  "kernelspec": {
   "display_name": "Python 3",
   "language": "python",
   "name": "python3"
  },
  "language_info": {
   "codemirror_mode": {
    "name": "ipython",
    "version": 3
   },
   "file_extension": ".py",
   "mimetype": "text/x-python",
   "name": "python",
   "nbconvert_exporter": "python",
   "pygments_lexer": "ipython3",
   "version": "3.8.8"
  }
 },
 "nbformat": 4,
 "nbformat_minor": 0
}
