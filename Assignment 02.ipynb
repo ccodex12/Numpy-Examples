{
 "cells": [
  {
   "cell_type": "markdown",
   "metadata": {},
   "source": [
    "Evaluate the dataset of the Summer Olympics, London 2012 to:\n",
    "\n",
    "1. Find and print the name of the country that won maximum gold medals,\n",
    "2. Find and print the countries who won more than 20 gold medals,\n",
    "3. Print the medal tally,\n",
    "4. Print each country name with the corresponding number of gold medals, and\n",
    "5. Print each country's name with the total number of medals won."
   ]
  },
  {
   "cell_type": "markdown",
   "metadata": {},
   "source": [
    "#### 1: View and add the dataset"
   ]
  },
  {
   "cell_type": "code",
   "execution_count": 2,
   "metadata": {
    "collapsed": true
   },
   "outputs": [],
   "source": [
    "#Import the necessary library\n",
    "import numpy as np"
   ]
  },
  {
   "cell_type": "code",
   "execution_count": 3,
   "metadata": {
    "collapsed": true
   },
   "outputs": [],
   "source": [
    "#Manually add the Summer Olympics, London 2012 dataset as arrays\n",
    "Gold = np.array([29,38,24,46,13,7,11])\n",
    "Silver = np.array([17,28,25,28,8,14,11])\n",
    "Bronze =np.array([19,22,32,29,7,17,14])\n",
    "Country = np.array(['Great Britain','China' ,'Russia','United States','Korea','Japan','Germany'])\n"
   ]
  },
  {
   "cell_type": "markdown",
   "metadata": {},
   "source": [
    "#### Find the country with maximum gold medals"
   ]
  },
  {
   "cell_type": "code",
   "execution_count": 4,
   "metadata": {
    "collapsed": true
   },
   "outputs": [],
   "source": [
    "#Use the argmax() method to find the highest number of gold medals\n",
    "idx_max_gold = np.argmax(Gold)"
   ]
  },
  {
   "cell_type": "code",
   "execution_count": 5,
   "metadata": {
    "collapsed": false
   },
   "outputs": [
    {
     "name": "stdout",
     "output_type": "stream",
     "text": [
      "United States\n"
     ]
    }
   ],
   "source": [
    "#Print the name of the country\n",
    "print(Country[idx_max_gold])"
   ]
  },
  {
   "cell_type": "markdown",
   "metadata": {},
   "source": [
    "#### Find the countries with more than 20 gold medals"
   ]
  },
  {
   "cell_type": "code",
   "execution_count": 6,
   "metadata": {
    "collapsed": false
   },
   "outputs": [
    {
     "data": {
      "text/plain": [
       "array(['Great Britain', 'China', 'Russia', 'United States'], dtype='<U13')"
      ]
     },
     "execution_count": 6,
     "metadata": {},
     "output_type": "execute_result"
    }
   ],
   "source": [
    "#Use Boolean indexing technique to find the required output\n",
    "Country[Gold>20]"
   ]
  },
  {
   "cell_type": "markdown",
   "metadata": {},
   "source": [
    "#### Evaluate the dataset and print the name of each country with its gold medals and total number of medals"
   ]
  },
  {
   "cell_type": "code",
   "execution_count": 14,
   "metadata": {
    "collapsed": false
   },
   "outputs": [
    {
     "name": "stdout",
     "output_type": "stream",
     "text": [
      "Great Britain - Gold - 29, Total - 65\n",
      "China - Gold - 38, Total - 88\n",
      "Russia - Gold - 24, Total - 81\n",
      "United States - Gold - 46, Total - 103\n",
      "Korea - Gold - 13, Total - 28\n",
      "Japan - Gold - 7, Total - 38\n",
      "Germany - Gold - 11, Total - 36\n"
     ]
    }
   ],
   "source": [
    "#Use a for loop to create the required output\n",
    "for cntry, gold, bronze, silver in zip(Country, Gold, Bronze, Silver):\n",
    "    print('{} - Gold - {}, Total - {}'.format(cntry, gold, (gold+silver+bronze)))"
   ]
  },
  {
   "cell_type": "code",
   "execution_count": null,
   "metadata": {},
   "outputs": [],
   "source": []
  }
 ],
 "metadata": {
  "kernelspec": {
   "display_name": "Python 3",
   "language": "python",
   "name": "python3"
  },
  "language_info": {
   "codemirror_mode": {
    "name": "ipython",
    "version": 3
   },
   "file_extension": ".py",
   "mimetype": "text/x-python",
   "name": "python",
   "nbconvert_exporter": "python",
   "pygments_lexer": "ipython3",
   "version": "3.8.8"
  }
 },
 "nbformat": 4,
 "nbformat_minor": 0
}
